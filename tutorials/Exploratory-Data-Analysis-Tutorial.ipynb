{
 "cells": [
  {
   "cell_type": "markdown",
   "metadata": {},
   "source": [
    "# Exploratory Data Analysis\n",
    "\n",
    "Author: Andrew Andrade ([andrew@andrewandrade.ca](mailto:andrew@andrewandrade.ca))\n",
    "\n",
    "This is complimentory tutorial for [datascienceguide.github.io](http://datascienceguide.github.io/) outlining the basics of [exploratory data analysis](http://datascienceguide.github.io/)\n",
    "\n",
    "In this tutorial, we will learn to open a comma seperated value (CSV) data file and make find summary statistics and basic visualizations on the variables in the Ansombe dataset.  Next we will investigate [Fisher's Iris data set](https://en.wikipedia.org/wiki/Iris_flower_data_set) using more powerful visualizations.\n",
    "\n",
    "These tutorials assumes a basic understanding of python so for those new to python, understanding basic syntax will be very helpful. I recommend writing python code in Jupyter notebook as it allows you to rapidly prototype and annotate your code.\n",
    "\n",
    "Python is a very easy language to get started with and there are many guides:\n",
    "Full list:\n",
    "http://docs.python-guide.org/en/latest/intro/learning/\n",
    "\n",
    "My favourite resources:\n",
    "https://docs.python.org/2/tutorial/introduction.html\n",
    "https://docs.python.org/2/tutorial/\n",
    "http://learnpythonthehardway.org/book/\n",
    "https://www.udacity.com/wiki/cs101/%3A-python-reference\n",
    "http://rosettacode.org/wiki/Category:Python\n",
    "\n",
    "Once you are familiar with python, the first part of this guide is useful in learning some of the libraries we will be using:\n",
    "http://cs231n.github.io/python-numpy-tutorial\n",
    "\n",
    "In addition, the following post helps teach the basics for data analysis in python:\n",
    "\n",
    "http://www.analyticsvidhya.com/blog/2014/07/baby-steps-libraries-data-structure/\n",
    "http://www.gregreda.com/2013/10/26/intro-to-pandas-data-structures/\n",
    "\n",
    "\n",
    "## Downloading csvs\n",
    "\n",
    "We should store this in a known location on our local computer or server.  The simplist way is to download and save it in the same folder you launch Jupyter notebook from, but I prefer to save my datasets in a datasets folder 1 directory up from my tutorial code (../datasets/).\n",
    "\n",
    "You should dowload the following CSVs:\n",
    "\n",
    "http://datascienceguide.github.io/datasets/anscombe_i.csv   \n",
    "\n",
    "http://datascienceguide.github.io/datasets/anscombe_ii.csv   \n",
    "\n",
    "http://datascienceguide.github.io/datasets/anscombe_iii.csv   \n",
    "\n",
    "http://datascienceguide.github.io/datasets/anscombe_iv.csv   \n",
    "\n",
    "\n",
    "http://datascienceguide.github.io/datasets/iris.csv\n",
    "\n",
    "\n",
    "If using a server, you can download the file by using the following command:\n",
    "\n",
    "```bash\n",
    "    wget http://datascienceguide.github.io/datasets/iris.csv\n",
    "```\n",
    "Now we can run the following code to open the csv."
   ]
  },
  {
   "cell_type": "code",
   "execution_count": 1,
   "metadata": {
    "collapsed": false
   },
   "outputs": [],
   "source": [
    "import matplotlib.pyplot as plt\n",
    "import numpy as np\n",
    "import pandas as pd\n",
    "%matplotlib inline\n",
    "\n",
    "anscombe_i = pd.read_csv('../datasets/anscombe_i.csv')\n",
    "anscombe_ii = pd.read_csv('../datasets/anscombe_ii.csv')\n",
    "anscombe_iii = pd.read_csv('../datasets/anscombe_iii.csv')\n",
    "anscombe_iv = pd.read_csv('../datasets/anscombe_iv.csv')\n",
    "\n"
   ]
  },
  {
   "cell_type": "markdown",
   "metadata": {},
   "source": [
    "The first three lines of code import libraries we are using and renames to shorter names.\n",
    "\n",
    "[Matplotlib](http://matplotlib.org/) is a python 2D plotting library which produces publication quality figures in a variety of hardcopy formats and interactive environments across platforms.  We will use it for basic graphics\n",
    "\n",
    "[Numpy](http://www.numpy.org/) is the fundamental package for scientific computing with Python. It contains among other things:\n",
    "\n",
    "- a powerful N-dimensional array object\n",
    "- sophisticated (broadcasting) functions\n",
    "- tools for integrating C/C++ and Fortran code\n",
    "- useful linear algebra, Fourier transform, and random number capabilities\n",
    "\n",
    "[Pandas](http://pandas.pydata.org/) is open source, BSD-licensed library providing high-performance, easy-to-use data structures and data analysis tools for the Python programming language.\n",
    "\n",
    "It extends the numpy array to allow for columns of different variable types.\n",
    "\n",
    "Since we are using Jupyter notebook we use the line `%matplotlib inline` to tell python to put the figures inline with the notebook (instead of a popup)\n",
    "\n",
    "pd.read_csv opens a .csv file and stores it into a dataframe object which we call anscombe_i, anscombe_ii, etc.\n",
    "\n",
    "Next, let us see the structure of the data by printing the first 5 rows (using [:5]) data set:"
   ]
  },
  {
   "cell_type": "code",
   "execution_count": 13,
   "metadata": {
    "collapsed": false
   },
   "outputs": [
    {
     "name": "stdout",
     "output_type": "stream",
     "text": [
      "    x     y\n",
      "0  10  8.04\n",
      "1   8  6.95\n",
      "2  13  7.58\n",
      "3   9  8.81\n",
      "4  11  8.33\n"
     ]
    }
   ],
   "source": [
    "print anscombe_i[0:5]"
   ]
  },
  {
   "cell_type": "markdown",
   "metadata": {},
   "source": [
    "Now let us use the describe function to see the 3 most basic summary statistics"
   ]
  },
  {
   "cell_type": "code",
   "execution_count": 19,
   "metadata": {
    "collapsed": false
   },
   "outputs": [
    {
     "name": "stdout",
     "output_type": "stream",
     "text": [
      "Data Set I\n",
      "               x          y\n",
      "count  11.000000  11.000000\n",
      "mean    9.000000   7.500909\n",
      "std     3.316625   2.031568\n",
      "Data Set II\n",
      "               x          y\n",
      "count  11.000000  11.000000\n",
      "mean    9.000000   7.500909\n",
      "std     3.316625   2.031657\n",
      "Data Set III\n",
      "               x          y\n",
      "count  11.000000  11.000000\n",
      "mean    9.000000   7.500000\n",
      "std     3.316625   2.030424\n",
      "Data Set IV\n",
      "               x          y\n",
      "count  11.000000  11.000000\n",
      "mean    9.000000   7.500909\n",
      "std     3.316625   2.030579\n"
     ]
    }
   ],
   "source": [
    "print \"Data Set I\"\n",
    "print anscombe_i.describe()[:3]\n",
    "print \"Data Set II\"\n",
    "print anscombe_ii.describe()[:3]\n",
    "print \"Data Set III\"\n",
    "print anscombe_iii.describe()[:3]\n",
    "print \"Data Set IV\"\n",
    "print anscombe_iv.describe()[:3]"
   ]
  },
  {
   "cell_type": "markdown",
   "metadata": {},
   "source": [
    "It appears that the datasets are almost identical by looking only at the mean and the standard deviation.  Instead, let us make a scatter plot for each of the data sets.\n",
    "\n",
    "Since the data is stored in a data frame (similar to an excel sheet), we can see the column names on top and we can access the columns using the following syntax\n",
    "\n",
    "    anscombe_i.x\n",
    "\n",
    "    anscombe_i.y\n",
    "\n",
    "or\n",
    "    anscombe_i['x']\n",
    "    anscombe_i['y']\n",
    "\n"
   ]
  },
  {
   "cell_type": "code",
   "execution_count": 26,
   "metadata": {
    "collapsed": false
   },
   "outputs": [
    {
     "data": {
      "text/plain": [
       "<matplotlib.collections.PathCollection at 0x7f8cf6e73f10>"
      ]
     },
     "execution_count": 26,
     "metadata": {},
     "output_type": "execute_result"
    },
    {
     "data": {
      "image/png": "[encoded data removed]",
      "text/plain": [
       "<matplotlib.figure.Figure at 0x7f8cf7108f90>"
      ]
     },
     "metadata": {},
     "output_type": "display_data"
    },
    {
     "data": {
      "image/png": "[encoded data removed]",
      "text/plain": [
       "<matplotlib.figure.Figure at 0x7f8cf71a0d10>"
      ]
     },
     "metadata": {},
     "output_type": "display_data"
    },
    {
     "data": {
      "image/png": "[encoded data removed]",
      "text/plain": [
       "<matplotlib.figure.Figure at 0x7f8cf705fe10>"
      ]
     },
     "metadata": {},
     "output_type": "display_data"
    },
    {
     "data": {
      "image/png": "[encoded data removed]",
      "text/plain": [
       "<matplotlib.figure.Figure at 0x7f8cf6f6d950>"
      ]
     },
     "metadata": {},
     "output_type": "display_data"
    }
   ],
   "source": [
    "plt.figure(1)\n",
    "plt.scatter(anscombe_i.x, anscombe_i.y,  color='black')\n",
    "\n",
    "plt.figure(2)\n",
    "plt.scatter(anscombe_ii.x, anscombe_ii.y,  color='black')\n",
    "\n",
    "\n",
    "plt.figure(3)\n",
    "plt.scatter(anscombe_iii.x, anscombe_iii.y,  color='black')\n",
    "\n",
    "\n",
    "plt.figure(4)\n",
    "plt.scatter(anscombe_iv.x, anscombe_iv.y,  color='black')\n",
    "\n"
   ]
  },
  {
   "cell_type": "markdown",
   "metadata": {
    "collapsed": false
   },
   "source": [
    "Shockily we can clearly see that the datasets are quite different!  The first data set has pure irreducable error, the second data set is not linear, the third dataset has an outlier, and the fourth dataset all of x values are the same except for an outlier.  If you do not believe me, I uploaded an excel worksheet with the full datasets and summary statistics [here]()"
   ]
  }
 ],
 "metadata": {
  "kernelspec": {
   "display_name": "Python 2",
   "language": "python",
   "name": "python2"
  },
  "language_info": {
   "codemirror_mode": {
    "name": "ipython",
    "version": 2
   },
   "file_extension": ".py",
   "mimetype": "text/x-python",
   "name": "python",
   "nbconvert_exporter": "python",
   "pygments_lexer": "ipython2",
   "version": "2.7.6"
  }
 },
 "nbformat": 4,
 "nbformat_minor": 0
}
