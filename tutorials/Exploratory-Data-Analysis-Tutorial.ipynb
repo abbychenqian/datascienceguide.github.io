{
 "cells": [
  {
   "cell_type": "markdown",
   "metadata": {},
   "source": [
    "# Exploratory Data Analysis\n",
    "\n",
    "Author: Andrew Andrade ([andrew@andrewandrade.ca](mailto:andrew@andrewandrade.ca))\n",
    "\n",
    "This is complimentory tutorial for [datascienceguide.github.io](http://datascienceguide.github.io/) outlining the basics of [exploratory data analysis](http://datascienceguide.github.io/)\n",
    "\n",
    "In this tutorial, we will learn to open a comma seperated value (CSV) data file and make find summary statistics and basic visualizations on the variables.  Next we will investigate [Fisher's Iris data set](https://en.wikipedia.org/wiki/Iris_flower_data_set) using exploratory data analysis.\n",
    "\n",
    "## Opening a csv\n",
    "\n",
    "First let us [download iris.csv](http://datascienceguide.github.io/datasets/iris.csv) the Iris dataset in CSV format.  We should store this in a known location on our local computer or server.  TH\n"
   ]
  }
 ],
 "metadata": {
  "kernelspec": {
   "display_name": "Python 2",
   "language": "python",
   "name": "python2"
  },
  "language_info": {
   "codemirror_mode": {
    "name": "ipython",
    "version": 2
   },
   "file_extension": ".py",
   "mimetype": "text/x-python",
   "name": "python",
   "nbconvert_exporter": "python",
   "pygments_lexer": "ipython2",
   "version": "2.7.6"
  }
 },
 "nbformat": 4,
 "nbformat_minor": 0
}
